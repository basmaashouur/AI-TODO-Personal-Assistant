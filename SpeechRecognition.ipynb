{
 "cells": [
  {
   "cell_type": "code",
   "execution_count": null,
   "id": "75857915-bbc2-4217-b9e5-72f760e73976",
   "metadata": {},
   "outputs": [],
   "source": []
  },
  {
   "cell_type": "code",
   "execution_count": 6,
   "id": "1cbd3be0-ef91-4cfd-a834-591ada35c294",
   "metadata": {},
   "outputs": [
    {
     "name": "stdout",
     "output_type": "stream",
     "text": [
      "['ADD ATWO DU LIST']\n"
     ]
    }
   ],
   "source": [
    "   \n",
    "    from transformers import Wav2Vec2Tokenizer, Wav2Vec2ForCTC\n",
    "    import librosa as lb\n",
    "    import torch\n",
    "    # Initialize the tokenizer\n",
    "    tokenizer = Wav2Vec2Tokenizer.from_pretrained('facebook/wav2vec2-base-960h')\n",
    "\n",
    "    # Initialize the model\n",
    "    model = Wav2Vec2ForCTC.from_pretrained('facebook/wav2vec2-base-960h')\n",
    "\n",
    "    # Read the sound file\n",
    "    waveform, rate = lb.load('br.wav', sr = 16000)\n",
    "\n",
    "    # Tokenize the waveform\n",
    "    input_values = tokenizer(waveform, return_tensors='pt').input_values\n",
    "\n",
    "    # Retrieve logits from the model\n",
    "    logits = model(input_values).logits\n",
    "\n",
    "    # Take argmax value and decode into transcription\n",
    "    predicted_ids = torch.argmax(logits, dim=-1)\n",
    "    transcription = tokenizer.batch_decode(predicted_ids)\n",
    "    print(transcription)\n"
   ]
  },
  {
   "cell_type": "code",
   "execution_count": 4,
   "id": "17ae88c1-6362-4342-a732-1ad57f73257b",
   "metadata": {},
   "outputs": [
    {
     "data": {
      "text/plain": [
       "'add a to-do list'"
      ]
     },
     "execution_count": 4,
     "metadata": {},
     "output_type": "execute_result"
    }
   ],
   "source": [
    "import speech_recognition as sr\n",
    "r = sr.Recognizer()\n",
    "harvard = sr.AudioFile('br.wav')\n",
    "with harvard as source:\n",
    "    r.adjust_for_ambient_noise(source)\n",
    "    audio = r.record(source)\n",
    "r.recognize_google(audio)"
   ]
  },
  {
   "cell_type": "code",
   "execution_count": null,
   "id": "4c616f58-a925-42dc-b1a5-80318ac26d9f",
   "metadata": {},
   "outputs": [],
   "source": []
  },
  {
   "cell_type": "code",
   "execution_count": null,
   "id": "30fe0c3c-73eb-43b0-b39e-6c64637c9a55",
   "metadata": {},
   "outputs": [],
   "source": []
  }
 ],
 "metadata": {
  "kernelspec": {
   "display_name": "Python 3",
   "language": "python",
   "name": "python3"
  },
  "language_info": {
   "codemirror_mode": {
    "name": "ipython",
    "version": 3
   },
   "file_extension": ".py",
   "mimetype": "text/x-python",
   "name": "python",
   "nbconvert_exporter": "python",
   "pygments_lexer": "ipython3",
   "version": "3.8.8"
  }
 },
 "nbformat": 4,
 "nbformat_minor": 5
}
